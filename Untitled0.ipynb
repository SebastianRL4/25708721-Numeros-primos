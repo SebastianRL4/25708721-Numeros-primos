{
  "nbformat": 4,
  "nbformat_minor": 0,
  "metadata": {
    "colab": {
      "name": "Untitled0.ipynb",
      "provenance": [],
      "collapsed_sections": [],
      "authorship_tag": "ABX9TyOZVMeHciBs9ceD/TgIlvsh",
      "include_colab_link": true
    },
    "kernelspec": {
      "name": "python3",
      "display_name": "Python 3"
    },
    "language_info": {
      "name": "python"
    }
  },
  "cells": [
    {
      "cell_type": "markdown",
      "metadata": {
        "id": "view-in-github",
        "colab_type": "text"
      },
      "source": [
        "<a href=\"https://colab.research.google.com/github/SebastianRL4/25708721-Numeros-primos/blob/main/Untitled0.ipynb\" target=\"_parent\"><img src=\"https://colab.research.google.com/assets/colab-badge.svg\" alt=\"Open In Colab\"/></a>"
      ]
    },
    {
      "cell_type": "code",
      "metadata": {
        "colab": {
          "base_uri": "https://localhost:8080/"
        },
        "id": "-DisY8w2BJeJ",
        "outputId": "548236b9-4135-4ff9-afa0-c52b146b0205"
      },
      "source": [
        "#Sebastian Rodríguez López\n",
        "print(\"introduzca su número\")\n",
        "numero= int(float(input()))\n",
        "\n",
        "#operaciones\n",
        "for i in range (2, int(numero/2)):\n",
        "  if numero%i==0:\n",
        "    print(\"El numero es divisible entre\", i, \"y\", int(numero/i))\n",
        "    break\n",
        "else:\n",
        "  print(\"el numero es primo por definicion\")\n",
        " \n",
        "    \n",
        "\n"
      ],
      "execution_count": null,
      "outputs": [
        {
          "output_type": "stream",
          "text": [
            "introduzca su número\n",
            "56743\n",
            "El numero es divisible entre 179 y 317\n"
          ],
          "name": "stdout"
        }
      ]
    }
  ]
}