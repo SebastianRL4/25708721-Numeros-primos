{
  "nbformat": 4,
  "nbformat_minor": 0,
  "metadata": {
    "colab": {
      "name": "numerosprimos.ipynb",
      "provenance": [],
      "authorship_tag": "ABX9TyOBc6SHjnyIHB0OIFmZVSP0",
      "include_colab_link": true
    },
    "kernelspec": {
      "name": "python3",
      "display_name": "Python 3"
    },
    "language_info": {
      "name": "python"
    }
  },
  "cells": [
    {
      "cell_type": "markdown",
      "metadata": {
        "id": "view-in-github",
        "colab_type": "text"
      },
      "source": [
        "<a href=\"https://colab.research.google.com/github/SebastianRL4/25708721-Numeros-primos/blob/main/numerosprimos.ipynb\" target=\"_parent\"><img src=\"https://colab.research.google.com/assets/colab-badge.svg\" alt=\"Open In Colab\"/></a>"
      ]
    },
    {
      "cell_type": "code",
      "metadata": {
        "colab": {
          "base_uri": "https://localhost:8080/"
        },
        "id": "pneCFfzA1C0s",
        "outputId": "7270830f-71d4-49a6-c02c-b26516309857"
      },
      "source": [
        "#Sebastian Rodríguez López\n",
        "import math\n",
        "print(\"introduzca su número\")\n",
        "numero= int((input()))\n",
        "\n",
        "#operaciones\n",
        "def isprime(numero):\n",
        "  if numero<=1:\n",
        "    return False\n",
        "  for i in range (2, int(numero/2)+1):\n",
        "    if numero%i==0:\n",
        "       print(\"El numero es divisible entre\", i, \"y\", int(numero/i))\n",
        "       return False\n",
        "       break\n",
        "  return True\n",
        "\n",
        "if isprime(numero):\n",
        "  print(\"es primo\")\n",
        "else:\n",
        "  print(\"no es primo\")"
      ],
      "execution_count": 1,
      "outputs": [
        {
          "output_type": "stream",
          "text": [
            "introduzca su número\n",
            "56743\n",
            "El numero es divisible entre 179 y 317\n",
            "no es primo\n"
          ],
          "name": "stdout"
        }
      ]
    }
  ]
}